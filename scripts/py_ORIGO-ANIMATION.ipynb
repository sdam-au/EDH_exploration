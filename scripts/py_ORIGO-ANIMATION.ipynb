{
 "cells": [
  {
   "cell_type": "code",
   "execution_count": 5,
   "metadata": {
    "collapsed": true
   },
   "outputs": [],
   "source": [
    "import geopandas as gpd\n",
    "#result = pyreadr.read_r('/path/to/file.Rds')"
   ]
  },
  {
   "cell_type": "code",
   "execution_count": 4,
   "outputs": [
    {
     "ename": "LibrdataError",
     "evalue": "Invalid file, or file has unsupported features",
     "output_type": "error",
     "traceback": [
      "\u001B[0;31m---------------------------------------------------------------------------\u001B[0m",
      "\u001B[0;31mLibrdataError\u001B[0m                             Traceback (most recent call last)",
      "Input \u001B[0;32mIn [4]\u001B[0m, in \u001B[0;36m<cell line: 1>\u001B[0;34m()\u001B[0m\n\u001B[0;32m----> 1\u001B[0m route_dr_final \u001B[38;5;241m=\u001B[39m \u001B[43mpyreadr\u001B[49m\u001B[38;5;241;43m.\u001B[39;49m\u001B[43mread_r\u001B[49m\u001B[43m(\u001B[49m\u001B[38;5;124;43m\"\u001B[39;49m\u001B[38;5;124;43m../data/drivefrom155firstorigins.rds\u001B[39;49m\u001B[38;5;124;43m\"\u001B[39;49m\u001B[43m)\u001B[49m\n",
      "File \u001B[0;32m/opt/homebrew/Caskroom/miniconda/base/lib/python3.9/site-packages/pyreadr/pyreadr.py:66\u001B[0m, in \u001B[0;36mread_r\u001B[0;34m(path, use_objects, timezone)\u001B[0m\n\u001B[1;32m     64\u001B[0m \u001B[38;5;28;01mif\u001B[39;00m \u001B[38;5;129;01mnot\u001B[39;00m os\u001B[38;5;241m.\u001B[39mpath\u001B[38;5;241m.\u001B[39misfile(filename_bytes):\n\u001B[1;32m     65\u001B[0m     \u001B[38;5;28;01mraise\u001B[39;00m PyreadrError(\u001B[38;5;124m\"\u001B[39m\u001B[38;5;124mFile \u001B[39m\u001B[38;5;132;01m{0}\u001B[39;00m\u001B[38;5;124m does not exist!\u001B[39m\u001B[38;5;124m\"\u001B[39m\u001B[38;5;241m.\u001B[39mformat(filename_bytes))\n\u001B[0;32m---> 66\u001B[0m \u001B[43mparser\u001B[49m\u001B[38;5;241;43m.\u001B[39;49m\u001B[43mparse\u001B[49m\u001B[43m(\u001B[49m\u001B[43mfilename_bytes\u001B[49m\u001B[43m)\u001B[49m\n\u001B[1;32m     68\u001B[0m result \u001B[38;5;241m=\u001B[39m OrderedDict()\n\u001B[1;32m     69\u001B[0m \u001B[38;5;28;01mfor\u001B[39;00m table_index, table \u001B[38;5;129;01min\u001B[39;00m \u001B[38;5;28menumerate\u001B[39m(parser\u001B[38;5;241m.\u001B[39mtable_data):\n",
      "File \u001B[0;32m/opt/homebrew/Caskroom/miniconda/base/lib/python3.9/site-packages/pyreadr/librdata.pyx:148\u001B[0m, in \u001B[0;36mpyreadr.librdata.Parser.parse\u001B[0;34m()\u001B[0m\n",
      "File \u001B[0;32m/opt/homebrew/Caskroom/miniconda/base/lib/python3.9/site-packages/pyreadr/librdata.pyx:177\u001B[0m, in \u001B[0;36mpyreadr.librdata.Parser.parse\u001B[0;34m()\u001B[0m\n",
      "\u001B[0;31mLibrdataError\u001B[0m: Invalid file, or file has unsupported features"
     ]
    }
   ],
   "source": [
    "route_dr_final = gpd.read_file(\"../data/drivefrom155firstorigins.rds\", driver=\"GeoJSON\")"
   ],
   "metadata": {
    "collapsed": false
   }
  },
  {
   "cell_type": "code",
   "execution_count": null,
   "outputs": [],
   "source": [],
   "metadata": {
    "collapsed": false
   }
  }
 ],
 "metadata": {
  "kernelspec": {
   "name": "conda_base",
   "language": "python",
   "display_name": "conda_base"
  },
  "language_info": {
   "codemirror_mode": {
    "name": "ipython",
    "version": 2
   },
   "file_extension": ".py",
   "mimetype": "text/x-python",
   "name": "python",
   "nbconvert_exporter": "python",
   "pygments_lexer": "ipython2",
   "version": "2.7.6"
  }
 },
 "nbformat": 4,
 "nbformat_minor": 0
}
